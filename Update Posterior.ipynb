{
 "cells": [
  {
   "cell_type": "code",
   "execution_count": 1,
   "metadata": {},
   "outputs": [],
   "source": [
    "import numpy as np\n",
    "import matplotlib.pyplot as plt"
   ]
  },
  {
   "cell_type": "code",
   "execution_count": 2,
   "metadata": {},
   "outputs": [
    {
     "name": "stdout",
     "output_type": "stream",
     "text": [
      "n users: 943\n",
      "n items: 1650\n"
     ]
    }
   ],
   "source": [
    "filePath = \"data/ml-100k/u1.base\"\n",
    "with open(filePath, \"rt\") as dataPath:\n",
    "    raw_data = dataPath.read().splitlines()\n",
    "datapoints = [[int(i) for i in data.split(\"\\t\")] for data in raw_data]\n",
    "\n",
    "# indexing on users/movies starts at 1, reset to index from 0, this will be important when we do testing\n",
    "datapoints = np.array([[row[0], row[1], row[2], row[3]] for row in datapoints])\n",
    "np.random.shuffle(datapoints)\n",
    "\n",
    "user_ids = set([datapoint[0] for datapoint in datapoints])\n",
    "n_users = len(user_ids)\n",
    "max_user = max(user_ids) + 1\n",
    "print(\"n users:\", n_users)\n",
    "items_ids = set([datapoint[1] for datapoint in datapoints])\n",
    "n_items = len(items_ids)\n",
    "max_item = max(items_ids) + 1\n",
    "print(\"n items:\", n_items)"
   ]
  },
  {
   "cell_type": "code",
   "execution_count": 3,
   "metadata": {},
   "outputs": [],
   "source": [
    "def softmax(x):\n",
    "    return np.exp(x) / np.sum(np.exp(x))"
   ]
  },
  {
   "cell_type": "code",
   "execution_count": 4,
   "metadata": {},
   "outputs": [
    {
     "name": "stdout",
     "output_type": "stream",
     "text": [
      "sum of squared errors: 47.53726840663723\n",
      "sum of squared errors: 17.866147762679624\n"
     ]
    },
    {
     "name": "stderr",
     "output_type": "stream",
     "text": [
      "/home/michael/miniconda3/envs/venv/lib/python3.6/site-packages/ipykernel_launcher.py:2: RuntimeWarning: overflow encountered in exp\n",
      "  \n",
      "/home/michael/miniconda3/envs/venv/lib/python3.6/site-packages/ipykernel_launcher.py:2: RuntimeWarning: invalid value encountered in true_divide\n",
      "  \n",
      "/home/michael/miniconda3/envs/venv/lib/python3.6/site-packages/ipykernel_launcher.py:60: RuntimeWarning: invalid value encountered in less\n"
     ]
    },
    {
     "name": "stdout",
     "output_type": "stream",
     "text": [
      "sum of squared errors: 0.23683174068244617\n",
      "sum of squared errors: 22.615209309036246\n",
      "sum of squared errors: 335.9125847130906\n",
      "sum of squared errors: 94.09767082760105\n",
      "sum of squared errors: 2.8034696776738723\n",
      "sum of squared errors: 0.7371982171934208\n",
      "sum of squared errors: 173.57012808184467\n",
      "sum of squared errors: 0.09263588528661787\n",
      "sum of squared errors: 12.202905073486031\n",
      "sum of squared errors: 7.770779693751211\n",
      "sum of squared errors: 0.011124064446698952\n",
      "sum of squared errors: 0.027937495545993906\n",
      "sum of squared errors: 0.0016063819364100485\n",
      "sum of squared errors: 1.9896131270261634\n",
      "sum of squared errors: 0.4310883965778543\n",
      "sum of squared errors: 0.5563515251507577\n",
      "sum of squared errors: 2.5858886039308575\n",
      "sum of squared errors: 4.711116753177055\n",
      "sum of squared errors: 0.3572732780976805\n",
      "sum of squared errors: 11.66626311684804\n",
      "sum of squared errors: 1.1132914284428426\n",
      "sum of squared errors: 8.85998268005335\n",
      "sum of squared errors: 1.616164875300726\n",
      "sum of squared errors: 0.1084874680509857\n",
      "sum of squared errors: 3.195025131339396\n",
      "sum of squared errors: 0.03138344207383281\n",
      "sum of squared errors: 1.3140185141927834\n",
      "sum of squared errors: 4.203727062564886\n",
      "sum of squared errors: 6.432036281305574\n",
      "sum of squared errors: 0.46536268573391254\n",
      "sum of squared errors: 0.47370804328396116\n",
      "sum of squared errors: 0.07743714055310513\n",
      "sum of squared errors: 0.02333522087318678\n",
      "sum of squared errors: 0.12625785235788423\n",
      "sum of squared errors: 2.7436569767079875\n",
      "sum of squared errors: 1.2091218324851338\n",
      "sum of squared errors: 0.05419058405371363\n",
      "sum of squared errors: 0.017397991004850625\n",
      "sum of squared errors: 13.973979636912562\n",
      "sum of squared errors: 0.1072227025792941\n",
      "sum of squared errors: 0.20928520136267906\n",
      "sum of squared errors: 2.8149267460980445\n",
      "sum of squared errors: 6.974732054113574\n",
      "sum of squared errors: 61.03468430621042\n",
      "sum of squared errors: 63.540220522241036\n",
      "sum of squared errors: 0.1767231648625579\n",
      "sum of squared errors: 0.5188674399818172\n",
      "sum of squared errors: 2.3487901217706137\n",
      "sum of squared errors: 0.4040269292407372\n",
      "sum of squared errors: 5.85637487689016\n",
      "sum of squared errors: 4.398293064452441\n",
      "sum of squared errors: 1.4268326676121559\n",
      "sum of squared errors: 17.773632916448197\n",
      "sum of squared errors: 34.49614559740602\n",
      "sum of squared errors: 0.9849942888296757\n",
      "sum of squared errors: 0.909278141505189\n",
      "sum of squared errors: 0.09264094448171246\n",
      "sum of squared errors: 7.7719424205531675\n",
      "sum of squared errors: 1.0312137608589607\n",
      "sum of squared errors: 1.825472936145498\n",
      "sum of squared errors: 0.25031298701379345\n",
      "sum of squared errors: 0.502423616061915\n",
      "sum of squared errors: 0.1960162034480367\n",
      "sum of squared errors: 0.06448237019315947\n",
      "sum of squared errors: 6.587992187050963\n",
      "sum of squared errors: 1.5215003356263008\n",
      "sum of squared errors: 0.36016640298288993\n",
      "sum of squared errors: 1.939570157388566\n",
      "sum of squared errors: 0.14239889125583968\n",
      "sum of squared errors: 7.843477555285924\n",
      "sum of squared errors: 2.3548693717888503\n",
      "sum of squared errors: 0.057113945296982827\n",
      "sum of squared errors: 5.795979428944477\n",
      "sum of squared errors: 5.4064125632309645\n",
      "sum of squared errors: 6.864536789093458\n",
      "sum of squared errors: 3.579772043353403\n",
      "sum of squared errors: 1.8491978866101086\n",
      "sum of squared errors: 0.9199959539625768\n"
     ]
    }
   ],
   "source": [
    "n_particles = 4\n",
    "k = 3\n",
    "var = 0.5\n",
    "particles = [(1 / n_particles, {\"u\": np.random.normal(size=(max_user, k)),\n",
    "                                \"v\": np.random.normal(size=(max_item, k)),\n",
    "                                \"var_u\": 1.0,\n",
    "                                \"var_i\": 1.0}) for _ in range(n_particles)]\n",
    "\n",
    "user_history = {} # user_rating_history[user_id][\"item_ids\"], user_rating_history[user_id][\"ratings\"]\n",
    "item_history = {} # item_rating_history[item_id][\"user_ids\"], item_rating_history[item_id][\"ratings\"]\n",
    "sses = []\n",
    "\n",
    "# what we're going to do here is assume that OUR system made the item recommendation and is observing the\n",
    "# rating we have in the dataset ... it's sort of like we're starting at line 11\n",
    "for _idx, (user_id, item_id, rating, ts) in enumerate(datapoints):\n",
    "    pred_rating = [np.dot(particle[1][\"u\"][user_id, :], particle[1][\"v\"][item_id, :]) for particle in particles]\n",
    "    errors = pred_rating - rating\n",
    "    sse = np.sum(errors ** 2)\n",
    "    if _idx % 101 == 0:\n",
    "        sses.append(sse)\n",
    "    if _idx % 1001 == 0:\n",
    "        print(\"sum of squared errors:\", sse)\n",
    "    \n",
    "    # line 17\n",
    "    precision_u_i = []\n",
    "    eta_u_i = []\n",
    "    for particle in particles:\n",
    "        if user_id not in user_history:\n",
    "            precision_u_i.append(np.eye(k))\n",
    "            eta_u_i.append(np.zeros(k))\n",
    "        else:\n",
    "            v_j = particle[1][\"v\"][user_history[user_id][\"item_ids\"], :]\n",
    "            lambda_u_i = 1 / var * \\\n",
    "                np.dot(v_j.T, v_j) + \\\n",
    "                1 / particle[1][\"var_u\"] * np.eye(k)\n",
    "            \n",
    "            precision_u_i.append(lambda_u_i)\n",
    "            \n",
    "            eta = np.sum(\n",
    "                np.multiply(\n",
    "                    v_j,\n",
    "                    np.array(user_history[user_id][\"ratings\"]).reshape(-1, 1)\n",
    "                ),\n",
    "                axis=0\n",
    "            )\n",
    "            eta_u_i.append(eta.reshape(-1))\n",
    "            \n",
    "    # line 18\n",
    "    weights = []\n",
    "    mus = [1 / var * np.dot(np.linalg.inv(lambda_), eta) for lambda_, eta in zip(precision_u_i, eta_u_i)]\n",
    "    for particle, mu, precision in zip(particles, mus, precision_u_i):\n",
    "        v_j = particle[1][\"v\"][item_id, :]\n",
    "        cov = 1 / var + np.dot(np.dot(v_j.T, precision), v_j)\n",
    "        w = np.random.normal(\n",
    "            np.dot(v_j.T, mu),\n",
    "            cov\n",
    "        )\n",
    "        weights.append(w)\n",
    "    normalized_weights = softmax(weights)\n",
    "    \n",
    "    # line 19\n",
    "    ds = [np.random.choice(range(n_particles), p=normalized_weights) for _ in range(n_particles)]\n",
    "    p_prime = []\n",
    "    for d in ds:\n",
    "        p_prime.append((1 / n_particles, particles[d][1]))\n",
    "        \n",
    "    for particle, precision, e in zip(p_prime, precision_u_i, eta_u_i):\n",
    "        # line 21\n",
    "        v_j = particle[1][\"v\"][item_id, :]\n",
    "        add_to_precision = 1 / var * np.dot(v_j.reshape(-1, 1), v_j.reshape(1, -1))\n",
    "        precision += add_to_precision\n",
    "        add_to_eta = rating * v_j\n",
    "        e += add_to_eta\n",
    "        # line 22\n",
    "        particle[1][\"u\"][user_id, :] = np.random.multivariate_normal(\n",
    "            1 / var * np.dot(np.linalg.inv(precision), e),\n",
    "            np.linalg.inv(precision)\n",
    "        )\n",
    "        # line 24\n",
    "        if item_id not in item_history:\n",
    "            precision_v_i = np.eye(k)\n",
    "            eta = np.zeros(k)\n",
    "        else:\n",
    "            u_i = particle[1][\"u\"][item_history[item_id][\"user_ids\"], :]\n",
    "            precision_v_i = 1 / var * \\\n",
    "                np.dot(u_i.T, u_i) + \\\n",
    "                1 / particle[1][\"var_i\"] * np.eye(k)\n",
    "            \n",
    "            eta = np.sum(\n",
    "                np.multiply(\n",
    "                    u_i,\n",
    "                    np.array(item_history[item_id][\"ratings\"]).reshape(-1, 1)\n",
    "                ),\n",
    "                axis=0\n",
    "            )\n",
    "        # line 25\n",
    "        particle[1][\"v\"][item_id, :] = np.random.multivariate_normal(\n",
    "            1 / var * np.dot(np.linalg.inv(precision_v_i), eta),\n",
    "            np.linalg.inv(precision_v_i)\n",
    "        )\n",
    "        \n",
    "    # line 28\n",
    "    particles = p_prime\n",
    "    \n",
    "    if user_id not in user_history:\n",
    "        user_history[user_id] = {\"item_ids\": [], \"ratings\": []}\n",
    "    if item_id not in item_history:\n",
    "        item_history[item_id] = {\"user_ids\": [], \"ratings\": []}\n",
    "    user_history[user_id][\"item_ids\"].append(item_id)\n",
    "    user_history[user_id][\"ratings\"].append(rating)\n",
    "    item_history[item_id][\"user_ids\"].append(user_id)\n",
    "    item_history[item_id][\"ratings\"].append(rating)"
   ]
  },
  {
   "cell_type": "code",
   "execution_count": 5,
   "metadata": {},
   "outputs": [],
   "source": [
    "def moving_average(x):\n",
    "    avgs = []\n",
    "    for i, v in enumerate(x):\n",
    "        avgs.append(np.sum(x[:i]) / i)\n",
    "    return avgs"
   ]
  },
  {
   "cell_type": "code",
   "execution_count": 6,
   "metadata": {},
   "outputs": [
    {
     "name": "stderr",
     "output_type": "stream",
     "text": [
      "/home/michael/miniconda3/envs/venv/lib/python3.6/site-packages/ipykernel_launcher.py:4: RuntimeWarning: invalid value encountered in double_scalars\n",
      "  after removing the cwd from sys.path.\n"
     ]
    },
    {
     "data": {
      "image/png": "[encoded data removed]",
      "text/plain": [
       "<Figure size 432x288 with 1 Axes>"
      ]
     },
     "metadata": {},
     "output_type": "display_data"
    }
   ],
   "source": [
    "mses = moving_average(sses)\n",
    "plt.scatter(range(len(mses)), mses)\n",
    "plt.show()"
   ]
  }
 ],
 "metadata": {
  "kernelspec": {
   "display_name": "Python 3",
   "language": "python",
   "name": "python3"
  },
  "language_info": {
   "codemirror_mode": {
    "name": "ipython",
    "version": 3
   },
   "file_extension": ".py",
   "mimetype": "text/x-python",
   "name": "python",
   "nbconvert_exporter": "python",
   "pygments_lexer": "ipython3",
   "version": "3.6.4"
  }
 },
 "nbformat": 4,
 "nbformat_minor": 2
}
