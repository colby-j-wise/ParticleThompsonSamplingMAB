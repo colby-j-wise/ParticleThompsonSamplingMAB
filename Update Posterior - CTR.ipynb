{
 "cells": [
  {
   "cell_type": "code",
   "execution_count": 1,
   "metadata": {},
   "outputs": [],
   "source": [
    "import numpy as np\n",
    "import matplotlib.pyplot as plt"
   ]
  },
  {
   "cell_type": "code",
   "execution_count": 43,
   "metadata": {},
   "outputs": [
    {
     "name": "stdout",
     "output_type": "stream",
     "text": [
      "n users: 943\n",
      "n items: 1650\n"
     ]
    }
   ],
   "source": [
    "filePath = \"data/ml-100k/u1.base\"\n",
    "with open(filePath, \"rt\") as dataPath:\n",
    "    raw_data = dataPath.read().splitlines()\n",
    "datapoints = [[int(i) for i in data.split(\"\\t\")] for data in raw_data]\n",
    "\n",
    "# indexing on users/movies starts at 1, reset to index from 0, this will be important when we do testing\n",
    "datapoints = np.array([[row[0], row[1], row[2], row[3]] for row in datapoints])\n",
    "np.random.shuffle(datapoints)\n",
    "\n",
    "user_ids = set([datapoint[0] for datapoint in datapoints])\n",
    "n_users = len(user_ids)\n",
    "max_user = max(user_ids) + 1\n",
    "print(\"n users:\", n_users)\n",
    "items_ids = set([datapoint[1] for datapoint in datapoints])\n",
    "n_items = len(items_ids)\n",
    "max_item = max(items_ids) + 1\n",
    "print(\"n items:\", n_items)"
   ]
  },
  {
   "cell_type": "code",
   "execution_count": 26,
   "metadata": {},
   "outputs": [],
   "source": [
    "def softmax(x):\n",
    "    # subtract max value to prevent overflow\n",
    "    return np.exp(x - np.max(x)) / np.sum(np.exp(x - np.max(x)))"
   ]
  },
  {
   "cell_type": "code",
   "execution_count": null,
   "metadata": {},
   "outputs": [],
   "source": [
    "# computes average and standard deviation MRR for samples\n",
    "def mrr(R, U, V, samples):\n",
    "    mrrs = []\n",
    "    #print(R[samples, :][0])\n",
    "    for s in samples:\n",
    "        mrr = 0.0\n",
    "        rating_count = np.sum(R[s, :] >= 3.0)\n",
    "        if rating_count == 0:\n",
    "            continue\n",
    "        pred = np.matmul(U[s], V.T)\n",
    "        predRank = np.argsort(np.argsort(-pred)) + 1\n",
    "        rs, cs = R[s, :].nonzero()\n",
    "        for j in cs:\n",
    "            mrr += (1.0 / predRank[j])\n",
    "        mrr /= rating_count\n",
    "        mrrs.append(mrr)\n",
    "    return np.mean(mrrs), np.std(mrrs)"
   ]
  },
  {
   "cell_type": "code",
   "execution_count": 36,
   "metadata": {},
   "outputs": [],
   "source": [
    "def stratified_resample(weights):\n",
    "    N = len(weights)\n",
    "    # make N subdivisions, chose a random position within each one\n",
    "    positions = (np.random.random(N) + range(N)) / N\n",
    "\n",
    "    indexes = np.zeros(N, 'i')\n",
    "    cumulative_sum = np.cumsum(weights)\n",
    "    i, j = 0, 0\n",
    "    while i < N:\n",
    "        if positions[i] < cumulative_sum[j]:\n",
    "            indexes[i] = j\n",
    "            i += 1\n",
    "        else:\n",
    "            j += 1\n",
    "    return indexes"
   ]
  },
  {
   "cell_type": "code",
   "execution_count": 44,
   "metadata": {},
   "outputs": [
    {
     "name": "stdout",
     "output_type": "stream",
     "text": [
      "squared error: 1.38\n",
      "squared error: 32.42\n",
      "squared error: 1.43\n",
      "squared error: 1.18\n",
      "squared error: 4.01\n",
      "squared error: 0.94\n",
      "squared error: 3.31\n",
      "squared error: 3.87\n",
      "squared error: 1.58\n",
      "squared error: 0.02\n",
      "squared error: 0.05\n",
      "squared error: 0.34\n",
      "squared error: 3.85\n",
      "squared error: 0.04\n",
      "squared error: 0.16\n",
      "squared error: 0.92\n",
      "squared error: 0.00\n",
      "squared error: 0.25\n",
      "squared error: 0.39\n",
      "squared error: 14.35\n",
      "squared error: 0.15\n",
      "squared error: 3.09\n",
      "squared error: 0.63\n",
      "squared error: 1.13\n",
      "squared error: 0.76\n",
      "squared error: 0.09\n",
      "squared error: 0.11\n",
      "squared error: 0.23\n",
      "squared error: 0.00\n",
      "squared error: 0.09\n",
      "squared error: 0.05\n",
      "squared error: 0.02\n",
      "squared error: 1.24\n",
      "squared error: 3.70\n",
      "squared error: 1.37\n",
      "squared error: 0.11\n",
      "squared error: 0.00\n",
      "squared error: 2.00\n",
      "squared error: 0.71\n",
      "squared error: 0.00\n",
      "squared error: 0.71\n",
      "squared error: 0.02\n",
      "squared error: 5.28\n",
      "squared error: 0.03\n",
      "squared error: 0.35\n",
      "squared error: 1.88\n",
      "squared error: 0.03\n",
      "squared error: 0.53\n",
      "squared error: 1.41\n",
      "squared error: 0.80\n",
      "squared error: 0.47\n",
      "squared error: 0.06\n",
      "squared error: 0.11\n",
      "squared error: 0.91\n",
      "squared error: 2.04\n",
      "squared error: 3.64\n",
      "squared error: 0.47\n",
      "squared error: 0.31\n",
      "squared error: 5.32\n",
      "squared error: 0.25\n",
      "squared error: 0.00\n",
      "squared error: 1.37\n",
      "squared error: 0.18\n",
      "squared error: 0.47\n",
      "squared error: 0.23\n",
      "squared error: 3.54\n",
      "squared error: 0.06\n",
      "squared error: 0.20\n",
      "squared error: 4.22\n",
      "squared error: 0.24\n",
      "squared error: 0.57\n",
      "squared error: 1.49\n",
      "squared error: 0.07\n",
      "squared error: 0.53\n",
      "squared error: 1.12\n",
      "squared error: 2.39\n",
      "squared error: 0.01\n",
      "squared error: 0.30\n",
      "squared error: 0.00\n",
      "squared error: 0.19\n"
     ]
    }
   ],
   "source": [
    "n_particles = 10\n",
    "k = 3\n",
    "var = 0.5\n",
    "particles = [(1 / n_particles, {\"u\": np.random.normal(size=(max_user, k)),\n",
    "                                \"v\": np.random.normal(size=(max_item, k)),\n",
    "                                \"var_u\": 1.0,\n",
    "                                \"var_i\": 1.0}) for _ in range(n_particles)]\n",
    "\n",
    "# get mean rating to make rating data centered at 0\n",
    "mean_rating = np.mean(datapoints[:, 2])\n",
    "data_store = {u_id: {row[1]: row[2] - mean_rating for row in datapoints if row[0] == u_id} for u_id in user_ids}\n",
    "\n",
    "user_history = {} # user_rating_history[user_id][\"item_ids\"], user_rating_history[user_id][\"ratings\"]\n",
    "item_history = {} # item_rating_history[item_id][\"user_ids\"], item_rating_history[item_id][\"ratings\"]\n",
    "ses = []\n",
    "ctr = 0\n",
    "ctr_hist = []\n",
    "# what we're going to do here is assume that OUR system made the item recommendation and is observing the\n",
    "# rating we have in the dataset ... it's sort of like we're starting at line 11\n",
    "for _idx in range(len(datapoints)):\n",
    "\n",
    "    # randomly get a user\n",
    "    user_id = np.random.choice([i for i in data_store.keys()])\n",
    "    user_items = [i for i in data_store[user_id].keys()]\n",
    "    \n",
    "    # highest rating this user has\n",
    "    highest_rating = max(data_store[user_id].values())\n",
    "    # get highest rated items\n",
    "    highest_rated_items = [x for x in data_store[user_id].keys() if data_store[user_id][x] >= highest_rating]\n",
    "    \n",
    "    # get indices for items this user rated\n",
    "    indices = np.array(user_items)\n",
    "    \n",
    "    # randomly select a particle\n",
    "    random_particle = np.random.choice(range(n_particles))\n",
    "    particle = particles[random_particle]\n",
    "    \n",
    "    # predict a rating only for the items rated by that user\n",
    "    predicted_rating = np.dot(particle[1][\"u\"][user_id, :], particle[1][\"v\"][indices, :].T)\n",
    "    \n",
    "    # get the item id\n",
    "    max_rating_ind = np.argmax(predicted_rating)\n",
    "    item_id = [i for i in data_store[user_id].keys()][max_rating_ind]\n",
    "    \n",
    "    # add to ctr if possible\n",
    "    if item_id in highest_rated_items:\n",
    "        ctr += 1\n",
    "    ctr_hist.append(ctr / (_idx + 1))\n",
    "    \n",
    "    # get the true rating\n",
    "    rating = data_store[user_id][item_id]\n",
    "    \n",
    "    # delete this item from this user\n",
    "    del data_store[user_id][item_id]\n",
    "    \n",
    "    # delete the user from the data store if they have no reviews left\n",
    "    if not data_store[user_id]:\n",
    "        del data_store[user_id]\n",
    "        \n",
    "    error = predicted_rating[max_rating_ind] - rating\n",
    "    se = error ** 2\n",
    "    if _idx % 101 == 0:\n",
    "        ses.append(se)\n",
    "    if _idx % 1000== 0:\n",
    "        print(\"squared error: {:.2f}\".format(se))\n",
    "\n",
    "    # line 17\n",
    "    precision_u_i = []\n",
    "    eta_u_i = []\n",
    "    for particle in particles:\n",
    "        if user_id not in user_history:\n",
    "            precision_u_i.append(np.eye(k))\n",
    "            eta_u_i.append(np.zeros(k))\n",
    "        else:\n",
    "            v_j = particle[1][\"v\"][user_history[user_id][\"item_ids\"], :]\n",
    "            lambda_u_i = 1 / var * \\\n",
    "                np.dot(v_j.T, v_j) + \\\n",
    "                1 / particle[1][\"var_u\"] * np.eye(k)\n",
    "\n",
    "            precision_u_i.append(lambda_u_i)\n",
    "\n",
    "            eta = np.sum(\n",
    "                np.multiply(\n",
    "                    v_j,\n",
    "                    np.array(user_history[user_id][\"ratings\"]).reshape(-1, 1)\n",
    "                ),\n",
    "                axis=0\n",
    "            )\n",
    "            eta_u_i.append(eta.reshape(-1))\n",
    "\n",
    "    # line 18\n",
    "    weights = []\n",
    "    mus = [1 / var * np.dot(np.linalg.inv(lambda_), eta) for lambda_, eta in zip(precision_u_i, eta_u_i)]\n",
    "    for particle, mu, precision in zip(particles, mus, precision_u_i):\n",
    "        v_j = particle[1][\"v\"][item_id, :]\n",
    "        cov = 1 / var + np.dot(np.dot(v_j.T, precision), v_j)\n",
    "        w = np.random.normal(\n",
    "            np.dot(v_j.T, mu),\n",
    "            cov\n",
    "        )\n",
    "        weights.append(w)\n",
    "    normalized_weights = softmax(weights)\n",
    "\n",
    "    # line 19\n",
    "    ds = [np.random.choice(range(n_particles), p=normalized_weights) for _ in range(n_particles)]\n",
    "    p_prime = []\n",
    "    for d in ds:\n",
    "        p_prime.append((1 / n_particles, particles[d][1]))\n",
    "\n",
    "    for particle, precision, e in zip(p_prime, precision_u_i, eta_u_i):\n",
    "\n",
    "        # line 21\n",
    "        v_j = particle[1][\"v\"][item_id, :]\n",
    "        add_to_precision = 1 / var * np.dot(v_j.reshape(-1, 1), v_j.reshape(1, -1))\n",
    "        precision += add_to_precision\n",
    "\n",
    "        add_to_eta = rating * v_j\n",
    "        e += add_to_eta\n",
    "\n",
    "        # line 22\n",
    "        particle[1][\"u\"][user_id, :] = np.random.multivariate_normal(\n",
    "            1 / var * np.dot(np.linalg.inv(precision), e),\n",
    "            np.linalg.inv(precision)\n",
    "        )\n",
    "\n",
    "        # line 24\n",
    "        if item_id not in item_history:\n",
    "            precision_v_i = np.eye(k)\n",
    "            eta = np.zeros(k)\n",
    "        else:\n",
    "            u_i = particle[1][\"u\"][item_history[item_id][\"user_ids\"], :]\n",
    "            precision_v_i = 1 / var * \\\n",
    "                np.dot(u_i.T, u_i) + \\\n",
    "                1 / particle[1][\"var_i\"] * np.eye(k)\n",
    "\n",
    "            eta = np.sum(\n",
    "                np.multiply(\n",
    "                    u_i,\n",
    "                    np.array(item_history[item_id][\"ratings\"]).reshape(-1, 1)\n",
    "                ),\n",
    "                axis=0\n",
    "            )\n",
    "        # line 25\n",
    "        particle[1][\"v\"][item_id, :] = np.random.multivariate_normal(\n",
    "            1 / var * np.dot(np.linalg.inv(precision_v_i), eta),\n",
    "            np.linalg.inv(precision_v_i)\n",
    "        )\n",
    "\n",
    "    # line 28\n",
    "    particles = p_prime\n",
    "\n",
    "    if user_id not in user_history:\n",
    "        user_history[user_id] = {\"item_ids\": [], \"ratings\": []}\n",
    "    if item_id not in item_history:\n",
    "        item_history[item_id] = {\"user_ids\": [], \"ratings\": []}\n",
    "    user_history[user_id][\"item_ids\"].append(item_id)\n",
    "    user_history[user_id][\"ratings\"].append(rating)\n",
    "    item_history[item_id][\"user_ids\"].append(user_id)\n",
    "    item_history[item_id][\"ratings\"].append(rating)"
   ]
  },
  {
   "cell_type": "code",
   "execution_count": 45,
   "metadata": {},
   "outputs": [],
   "source": [
    "def moving_average(x):\n",
    "    avgs = []\n",
    "    for i, v in enumerate(x):\n",
    "        avgs.append(np.sum(x[:i]) / i)\n",
    "    return avgs"
   ]
  },
  {
   "cell_type": "code",
   "execution_count": 46,
   "metadata": {},
   "outputs": [
    {
     "name": "stderr",
     "output_type": "stream",
     "text": [
      "/Users/bsrikishan/anaconda3/lib/python3.6/site-packages/ipykernel_launcher.py:4: RuntimeWarning: invalid value encountered in double_scalars\n",
      "  after removing the cwd from sys.path.\n"
     ]
    },
    {
     "data": {
      "image/png": "[encoded data removed]",
      "text/plain": [
       "<matplotlib.figure.Figure at 0x10e1c25c0>"
      ]
     },
     "metadata": {},
     "output_type": "display_data"
    }
   ],
   "source": [
    "mses = moving_average(ses)\n",
    "plt.scatter(range(len(mses)), mses)\n",
    "plt.title(\"final mse: {:.2f}\".format(mses[-1]))\n",
    "plt.show()"
   ]
  },
  {
   "cell_type": "code",
   "execution_count": 47,
   "metadata": {},
   "outputs": [
    {
     "data": {
      "image/png": "[encoded data removed]",
      "text/plain": [
       "<matplotlib.figure.Figure at 0x10e1c20f0>"
      ]
     },
     "metadata": {},
     "output_type": "display_data"
    }
   ],
   "source": [
    "plt.scatter(range(len(ses)), ses)\n",
    "plt.title(\"final se: {:.2f}\".format(ses[-1]))\n",
    "plt.show()"
   ]
  },
  {
   "cell_type": "code",
   "execution_count": 48,
   "metadata": {},
   "outputs": [
    {
     "data": {
      "image/png": "[encoded data removed]",
      "text/plain": [
       "<matplotlib.figure.Figure at 0x10eb95e80>"
      ]
     },
     "metadata": {},
     "output_type": "display_data"
    }
   ],
   "source": [
    "plt.scatter(range(len(ctr_hist)), ctr_hist)\n",
    "plt.title(\"cumulative take rate {:.2f}\".format(ctr_hist[-1]))\n",
    "plt.show()"
   ]
  },
  {
   "cell_type": "code",
   "execution_count": 49,
   "metadata": {},
   "outputs": [
    {
     "data": {
      "image/png": "[encoded data removed]",
      "text/plain": [
       "<matplotlib.figure.Figure at 0x108cb9b70>"
      ]
     },
     "metadata": {},
     "output_type": "display_data"
    }
   ],
   "source": [
    "# plot CTR history\n",
    "plt.plot(range(len(ctr_hist)), ctr_hist)\n",
    "plt.show()"
   ]
  },
  {
   "cell_type": "code",
   "execution_count": null,
   "metadata": {},
   "outputs": [],
   "source": []
  }
 ],
 "metadata": {
  "kernelspec": {
   "display_name": "Python 3",
   "language": "python",
   "name": "python3"
  },
  "language_info": {
   "codemirror_mode": {
    "name": "ipython",
    "version": 3
   },
   "file_extension": ".py",
   "mimetype": "text/x-python",
   "name": "python",
   "nbconvert_exporter": "python",
   "pygments_lexer": "ipython3",
   "version": "3.6.5"
  }
 },
 "nbformat": 4,
 "nbformat_minor": 2
}
